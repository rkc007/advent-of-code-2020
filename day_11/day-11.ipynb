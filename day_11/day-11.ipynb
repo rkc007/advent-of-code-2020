{
 "cells": [
  {
   "cell_type": "code",
   "execution_count": 8,
   "metadata": {},
   "outputs": [
    {
     "name": "stdout",
     "output_type": "stream",
     "text": [
      "Part 1: 2418\n",
      "Part 2: 2144\n"
     ]
    }
   ],
   "source": [
    "from os import path\n",
    "\n",
    "def solve(seats, neighbors, occ):\n",
    "    neighbor_count = {}\n",
    "    change = True\n",
    "\n",
    "    while change:\n",
    "        change = False\n",
    "\n",
    "        for seat in seats.keys():\n",
    "            neighbor_count[seat] = sum(seats[n] == \"#\" for n in neighbors[seat])\n",
    "\n",
    "        for c, seat in seats.items():\n",
    "            if seat == \"L\":\n",
    "                if neighbor_count[c] == 0:\n",
    "                    seats[c] = \"#\"\n",
    "                    change = True\n",
    "            elif seat == \"#\":\n",
    "                if neighbor_count[c] >= occ:\n",
    "                    seats[c] = \"L\"\n",
    "                    change = True\n",
    "\n",
    "    return sum(seat == \"#\" for seat in seats.values())\n",
    "\n",
    "with open(\"day11.txt\") as f:\n",
    "    grid = [list(line.strip()) for line in f]\n",
    "    seats = {}\n",
    "    neighbors1 = {}\n",
    "    neighbors2 = {}\n",
    "\n",
    "    for y, line in enumerate(grid):\n",
    "        for x, seat in enumerate(line):\n",
    "            if seat == \".\":\n",
    "                continue\n",
    "\n",
    "            seats[x, y] = seat\n",
    "            curr_neighbors1 = []\n",
    "            curr_neighbors2 = []\n",
    "\n",
    "            for dx in (-1,0,1):\n",
    "                for dy in (-1,0,1):\n",
    "                    if dx == 0 and dy == 0:\n",
    "                        continue\n",
    "\n",
    "                    nx = x+dx\n",
    "                    ny = y+dy\n",
    "\n",
    "                    if 0 <= ny < len(grid) and 0 <= nx < len(grid[0]):\n",
    "                        if grid[ny][nx] in (\"#\", \"L\"):\n",
    "                            curr_neighbors1.append((nx, ny))\n",
    "\n",
    "                    while 0 <= ny < len(grid) and 0 <= nx < len(grid[0]):\n",
    "                        if grid[ny][nx] in (\"#\", \"L\"):\n",
    "                            curr_neighbors2.append((nx, ny))\n",
    "                            break\n",
    "\n",
    "                        nx += dx\n",
    "                        ny += dy\n",
    "\n",
    "            neighbors1[x, y] = curr_neighbors1\n",
    "            neighbors2[x, y] = curr_neighbors2\n",
    "    \n",
    "    print(\"Part 1:\", solve(seats.copy(), neighbors1, 4))\n",
    "    print(\"Part 2:\", solve(seats, neighbors2, 5))"
   ]
  },
  {
   "cell_type": "code",
   "execution_count": null,
   "metadata": {},
   "outputs": [],
   "source": []
  }
 ],
 "metadata": {
  "kernelspec": {
   "display_name": "Python 3",
   "language": "python",
   "name": "python3"
  },
  "language_info": {
   "codemirror_mode": {
    "name": "ipython",
    "version": 3
   },
   "file_extension": ".py",
   "mimetype": "text/x-python",
   "name": "python",
   "nbconvert_exporter": "python",
   "pygments_lexer": "ipython3",
   "version": "3.6.8"
  }
 },
 "nbformat": 4,
 "nbformat_minor": 4
}
