{
 "cells": [
  {
   "cell_type": "code",
   "execution_count": 4,
   "metadata": {},
   "outputs": [
    {
     "name": "stdout",
     "output_type": "stream",
     "text": [
      "Part 1: 2847\n",
      "Part 2: 29839\n"
     ]
    }
   ],
   "source": [
    "from os import path\n",
    "\n",
    "\n",
    "DIRECTIONS = {d: i for i, d in enumerate([\"N\", \"E\", \"S\", \"W\"])}\n",
    "MOVE = [(0, -1), (1, 0), (0, 1), (-1, 0)]\n",
    "ROTX = [(1, 0), (0, -1), (-1, 0), (0, 1)]\n",
    "ROTY = [(0, 1), (1, 0), (0, -1), (-1, 0)]\n",
    "\n",
    "\n",
    "with open( \"day12.txt\") as f:\n",
    "    x, y, x2, y2, d = 0, 0, 0, 0, DIRECTIONS[\"E\"]\n",
    "    wpx, wpy = 10, -1\n",
    "\n",
    "    for line in f:\n",
    "        op, arg = line[0], int(line[1:])\n",
    "\n",
    "        # Part 1\n",
    "        if op == \"R\":\n",
    "            d = (d + arg // 90) % 4\n",
    "        elif op == \"L\":\n",
    "            d = (d - arg // 90) % 4\n",
    "        else:\n",
    "            dx, dy = MOVE[DIRECTIONS.get(op, d)]\n",
    "            x += dx * arg\n",
    "            y += dy * arg\n",
    "\n",
    "        # Part 2\n",
    "        if op in DIRECTIONS:\n",
    "            dx, dy = MOVE[DIRECTIONS[op]]\n",
    "            wpx += dx * arg\n",
    "            wpy += dy * arg\n",
    "        elif op == \"F\":\n",
    "            x2 += wpx * arg\n",
    "            y2 += wpy * arg\n",
    "        else:\n",
    "            rot = arg // 90 if op == \"R\" else ((-arg) % 360) // 90\n",
    "            rotx, roty = ROTX[rot], ROTY[rot]\n",
    "            wpx, wpy = wpx * rotx[0] + wpy * rotx[1], wpx * roty[0] + wpy * roty[1]\n",
    "\n",
    "    print(\"Part 1:\", abs(x) + abs(y))\n",
    "    print(\"Part 2:\", abs(x2) + abs(y2))"
   ]
  },
  {
   "cell_type": "code",
   "execution_count": null,
   "metadata": {},
   "outputs": [],
   "source": []
  }
 ],
 "metadata": {
  "kernelspec": {
   "display_name": "Python 3",
   "language": "python",
   "name": "python3"
  },
  "language_info": {
   "codemirror_mode": {
    "name": "ipython",
    "version": 3
   },
   "file_extension": ".py",
   "mimetype": "text/x-python",
   "name": "python",
   "nbconvert_exporter": "python",
   "pygments_lexer": "ipython3",
   "version": "3.6.8"
  }
 },
 "nbformat": 4,
 "nbformat_minor": 4
}
