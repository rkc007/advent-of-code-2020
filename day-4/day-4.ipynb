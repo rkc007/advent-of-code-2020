{
 "cells": [
  {
   "cell_type": "code",
   "execution_count": 12,
   "metadata": {},
   "outputs": [
    {
     "name": "stdout",
     "output_type": "stream",
     "text": [
      "228\n",
      "175\n"
     ]
    }
   ],
   "source": [
    "import collections\n",
    "import math\n",
    "import re\n",
    "import sys\n",
    "\n",
    "lines = [l.rstrip('\\n') for l in open('day4.txt', 'r').read().split('\\n\\n')]\n",
    "\n",
    "\n",
    "ALL = {'ecl', 'pid', 'eyr', 'hcl', 'byr', 'iyr', 'hgt'}\n",
    "\n",
    "valid = 0\n",
    "count = 0\n",
    "for line in lines:\n",
    "    chunks = re.findall(r'(\\w+):(\\S+)', line)\n",
    "\n",
    "    if len(ALL - set(c[0] for c in chunks)) == 0:\n",
    "        count += 1\n",
    "        \n",
    "for line in lines:\n",
    "    chunks = re.findall(r'(\\w+):(\\S+)', line)\n",
    "\n",
    "    if len(ALL - set(c[0] for c in chunks)) != 0:\n",
    "        continue\n",
    "\n",
    "    allvalid = True\n",
    "    for typ, val in chunks:\n",
    "        isv = False\n",
    "        if typ == 'byr':\n",
    "            isv = 1920 <= int(val) <= 2002\n",
    "        elif typ == 'iyr':\n",
    "            isv = 2010 <= int(val) <= 2020\n",
    "        elif typ == 'eyr':\n",
    "            isv = 2020 <= int(val) <= 2030\n",
    "        elif typ == 'hgt':\n",
    "            if val.endswith('cm'):\n",
    "                isv = 150 <= int(val[:-2]) <= 193\n",
    "            elif val.endswith('in'):\n",
    "                isv = 59 <= int(val[:-2]) <= 76\n",
    "        elif typ == 'hcl':\n",
    "            isv = bool(re.fullmatch(r'#[0-9a-f]{6}', val))\n",
    "        elif typ == 'ecl':\n",
    "            isv = val in 'amb blu brn gry grn hzl oth'.split()\n",
    "        elif typ == 'pid':\n",
    "            isv = bool(re.fullmatch(r'[0-9]{9}', val))\n",
    "        elif typ == 'cid':\n",
    "            isv = True\n",
    "\n",
    "        allvalid = allvalid and isv\n",
    "\n",
    "    if allvalid:\n",
    "        valid += 1\n",
    "        \n",
    "print(count) # part 1\n",
    "print(valid) # part 2"
   ]
  },
  {
   "cell_type": "code",
   "execution_count": null,
   "metadata": {},
   "outputs": [],
   "source": []
  }
 ],
 "metadata": {
  "kernelspec": {
   "display_name": "Python 3",
   "language": "python",
   "name": "python3"
  },
  "language_info": {
   "codemirror_mode": {
    "name": "ipython",
    "version": 3
   },
   "file_extension": ".py",
   "mimetype": "text/x-python",
   "name": "python",
   "nbconvert_exporter": "python",
   "pygments_lexer": "ipython3",
   "version": "3.6.8"
  }
 },
 "nbformat": 4,
 "nbformat_minor": 4
}
