{
 "cells": [
  {
   "cell_type": "code",
   "execution_count": 1,
   "metadata": {},
   "outputs": [
    {
     "name": "stdout",
     "output_type": "stream",
     "text": [
      "Part 1: 1521\n",
      "Part 2: 1016\n"
     ]
    }
   ],
   "source": [
    "from os import path\n",
    "\n",
    "\n",
    "NOP, JMP, ACC = range(3)\n",
    "\n",
    "\n",
    "def run(code):\n",
    "    visited = set()\n",
    "    ip = acc = 0\n",
    "\n",
    "    while ip not in visited and ip < len(code):\n",
    "        visited.add(ip)\n",
    "        op, arg = code[ip]\n",
    "\n",
    "        if op == JMP:\n",
    "            ip += arg\n",
    "        else:\n",
    "            if op == ACC:\n",
    "                acc += arg\n",
    "            ip += 1\n",
    "\n",
    "    return ip >= len(code), acc\n",
    "\n",
    "\n",
    "with open(\"day8.txt\") as f:\n",
    "    code = []\n",
    "    for line in f:\n",
    "        op, arg = line.split()\n",
    "        code.append([[\"nop\", \"jmp\", \"acc\"].index(op), int(arg)])\n",
    "\n",
    "    print(\"Part 1:\", run(code)[1])\n",
    "\n",
    "    for i, (op, arg) in enumerate(code):\n",
    "        if op != ACC:\n",
    "            code[i][0] = 1 - op\n",
    "\n",
    "            terminates, acc = run(code)\n",
    "            if terminates:\n",
    "                print(\"Part 2:\", acc)\n",
    "                break\n",
    "\n",
    "            code[i][0] = op"
   ]
  },
  {
   "cell_type": "code",
   "execution_count": null,
   "metadata": {},
   "outputs": [],
   "source": []
  }
 ],
 "metadata": {
  "kernelspec": {
   "display_name": "Python 3",
   "language": "python",
   "name": "python3"
  },
  "language_info": {
   "codemirror_mode": {
    "name": "ipython",
    "version": 3
   },
   "file_extension": ".py",
   "mimetype": "text/x-python",
   "name": "python",
   "nbconvert_exporter": "python",
   "pygments_lexer": "ipython3",
   "version": "3.6.8"
  }
 },
 "nbformat": 4,
 "nbformat_minor": 4
}
