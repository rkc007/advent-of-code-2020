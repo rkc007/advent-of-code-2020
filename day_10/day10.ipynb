{
 "cells": [
  {
   "cell_type": "code",
   "execution_count": 6,
   "metadata": {},
   "outputs": [
    {
     "name": "stdout",
     "output_type": "stream",
     "text": [
      "Part 1: 2170\n",
      "Part 2: 24803586664192\n"
     ]
    }
   ],
   "source": [
    "from os import path\n",
    "from functools import lru_cache\n",
    "\n",
    "\n",
    "with open(\"day10.txt\") as f:\n",
    "    jolts = [int(line) for line in f]\n",
    "    jolts.sort()\n",
    "    jolts = [0] + jolts + [jolts[-1] + 3]\n",
    "\n",
    "    ones = threes = 0\n",
    "\n",
    "    for a, b in zip(jolts, jolts[1:]):\n",
    "        if b - a == 1:\n",
    "            ones += 1\n",
    "        if b - a == 3:\n",
    "            threes += 1\n",
    "\n",
    "    print(\"Part 1:\", ones * threes)\n",
    "\n",
    "\n",
    "@lru_cache()\n",
    "def arrangements(i):\n",
    "    if i >= len(jolts):\n",
    "        return 1\n",
    "\n",
    "    x = jolts[i]\n",
    "    result = arrangements(i + 1)\n",
    "\n",
    "    if i + 2 < len(jolts) and jolts[i + 2] - x <= 3:\n",
    "        result += arrangements(i + 2)\n",
    "\n",
    "        if i + 3 < len(jolts) and jolts[i + 3] - x <= 3:\n",
    "            result += arrangements(i + 3)\n",
    "\n",
    "    return result\n",
    "\n",
    "\n",
    "print(\"Part 2:\", arrangements(0))"
   ]
  },
  {
   "cell_type": "code",
   "execution_count": null,
   "metadata": {},
   "outputs": [],
   "source": []
  }
 ],
 "metadata": {
  "kernelspec": {
   "display_name": "Python 3",
   "language": "python",
   "name": "python3"
  },
  "language_info": {
   "codemirror_mode": {
    "name": "ipython",
    "version": 3
   },
   "file_extension": ".py",
   "mimetype": "text/x-python",
   "name": "python",
   "nbconvert_exporter": "python",
   "pygments_lexer": "ipython3",
   "version": "3.6.8"
  }
 },
 "nbformat": 4,
 "nbformat_minor": 4
}
