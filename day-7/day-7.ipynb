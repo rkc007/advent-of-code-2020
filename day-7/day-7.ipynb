{
 "cells": [
  {
   "cell_type": "code",
   "execution_count": 2,
   "metadata": {},
   "outputs": [
    {
     "name": "stdout",
     "output_type": "stream",
     "text": [
      "Part 1: 205\n",
      "Part 2: 80902\n"
     ]
    }
   ],
   "source": [
    "from os import path\n",
    "from networkx import DiGraph, dfs_postorder_nodes\n",
    "\n",
    "with open( \"day7.txt\") as f:\n",
    "    G = DiGraph()\n",
    "\n",
    "    for line in f:\n",
    "        bag, contains = line.strip().rstrip(\".\").split(\" bags contain \")\n",
    "\n",
    "        if contains == \"no other bags\":\n",
    "            continue\n",
    "\n",
    "        for other in contains.split(\", \"):\n",
    "            count = int(other[0])\n",
    "            other = other[2:].rstrip(\"bags\").strip()\n",
    "            G.add_edge(bag, other, count=count)\n",
    "\n",
    "    print(\"Part 1:\", len(list(dfs_postorder_nodes(G.reverse(), \"shiny gold\"))) - 1)\n",
    "\n",
    "    for node in dfs_postorder_nodes(G, \"shiny gold\"):\n",
    "        G.nodes[node][\"count\"] = sum(\n",
    "            (G.nodes[n][\"count\"] + 1) * v[\"count\"] for (n, v) in G[node].items()\n",
    "        )\n",
    "\n",
    "    print(\"Part 2:\", G.nodes[\"shiny gold\"][\"count\"])"
   ]
  },
  {
   "cell_type": "code",
   "execution_count": null,
   "metadata": {},
   "outputs": [],
   "source": []
  },
  {
   "cell_type": "code",
   "execution_count": null,
   "metadata": {},
   "outputs": [],
   "source": []
  }
 ],
 "metadata": {
  "kernelspec": {
   "display_name": "Python 3",
   "language": "python",
   "name": "python3"
  },
  "language_info": {
   "codemirror_mode": {
    "name": "ipython",
    "version": 3
   },
   "file_extension": ".py",
   "mimetype": "text/x-python",
   "name": "python",
   "nbconvert_exporter": "python",
   "pygments_lexer": "ipython3",
   "version": "3.8.5"
  }
 },
 "nbformat": 4,
 "nbformat_minor": 4
}
