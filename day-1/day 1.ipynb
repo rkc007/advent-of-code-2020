{
 "cells": [
  {
   "cell_type": "code",
   "execution_count": 24,
   "metadata": {},
   "outputs": [],
   "source": [
    "data = open('day1.txt', 'r').read().split('\\n')\n",
    "data = [int(i) for i in data]"
   ]
  },
  {
   "cell_type": "code",
   "execution_count": 32,
   "metadata": {},
   "outputs": [
    {
     "name": "stdout",
     "output_type": "stream",
     "text": [
      "197451\n"
     ]
    }
   ],
   "source": [
    "#Problem 1\n",
    "d = set()\n",
    "for i in data:\n",
    "    if abs(2020 - int(i)) in d:\n",
    "        print(int(i)*(2020-int(i)))\n",
    "    else:\n",
    "        d.add(i)"
   ]
  },
  {
   "cell_type": "code",
   "execution_count": 39,
   "metadata": {},
   "outputs": [
    {
     "name": "stdout",
     "output_type": "stream",
     "text": [
      "The 3 sum element list is : [138233720]\n"
     ]
    }
   ],
   "source": [
    "#Problem 2\n",
    "import numpy \n",
    "test_list = data\n",
    "res = [] \n",
    "sum = 2020\n",
    "for i in range(0, len(test_list)-2): \n",
    "    for j in range(i + 1, len(test_list)-1): \n",
    "        for k in range(j + 1, len(test_list)): \n",
    "            if test_list[i] + test_list[j] + test_list[k] == sum: \n",
    "                temp = [] \n",
    "                temp.append(test_list[i]) \n",
    "                temp.append(test_list[j]) \n",
    "                temp.append(test_list[k]) \n",
    "                res.append(numpy.prod(temp)) \n",
    "  \n",
    "print(\"The 3 sum element list is : \" + str(res)) "
   ]
  },
  {
   "cell_type": "code",
   "execution_count": null,
   "metadata": {},
   "outputs": [],
   "source": []
  },
  {
   "cell_type": "code",
   "execution_count": null,
   "metadata": {},
   "outputs": [],
   "source": []
  }
 ],
 "metadata": {
  "kernelspec": {
   "display_name": "Python 3",
   "language": "python",
   "name": "python3"
  },
  "language_info": {
   "codemirror_mode": {
    "name": "ipython",
    "version": 3
   },
   "file_extension": ".py",
   "mimetype": "text/x-python",
   "name": "python",
   "nbconvert_exporter": "python",
   "pygments_lexer": "ipython3",
   "version": "3.6.8"
  }
 },
 "nbformat": 4,
 "nbformat_minor": 4
}
