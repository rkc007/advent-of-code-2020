{
 "cells": [
  {
   "cell_type": "code",
   "execution_count": 3,
   "metadata": {},
   "outputs": [
    {
     "name": "stdout",
     "output_type": "stream",
     "text": [
      "Part 1: 6630\n",
      "Part 2: 3437\n"
     ]
    }
   ],
   "source": [
    "from os import path\n",
    "import string\n",
    "\n",
    "with open(\"day6.txt\") as f:\n",
    "    part1 = part2 = 0\n",
    "\n",
    "    for group in f.read().split(\"\\n\\n\"):\n",
    "        answers1 = set()\n",
    "        answers2 = set(string.ascii_lowercase)\n",
    "\n",
    "        for person in group.split():\n",
    "            answers1.update(person)\n",
    "            answers2 &= set(person)\n",
    "\n",
    "        part1 += len(answers1)\n",
    "        part2 += len(answers2)\n",
    "\n",
    "    print(\"Part 1:\", part1)\n",
    "    print(\"Part 2:\", part2)"
   ]
  },
  {
   "cell_type": "code",
   "execution_count": null,
   "metadata": {},
   "outputs": [],
   "source": []
  }
 ],
 "metadata": {
  "kernelspec": {
   "display_name": "Python 3",
   "language": "python",
   "name": "python3"
  },
  "language_info": {
   "codemirror_mode": {
    "name": "ipython",
    "version": 3
   },
   "file_extension": ".py",
   "mimetype": "text/x-python",
   "name": "python",
   "nbconvert_exporter": "python",
   "pygments_lexer": "ipython3",
   "version": "3.6.8"
  }
 },
 "nbformat": 4,
 "nbformat_minor": 4
}
