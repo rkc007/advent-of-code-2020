{
 "cells": [
  {
   "cell_type": "code",
   "execution_count": 18,
   "metadata": {},
   "outputs": [],
   "source": [
    "import math\n",
    "data = open('day13.txt', 'r').read().split('\\n')"
   ]
  },
  {
   "cell_type": "code",
   "execution_count": 19,
   "metadata": {},
   "outputs": [],
   "source": [
    "start, buses = data[0],data[1]\n",
    "start = int(start)\n",
    "buses = [int(b) if b != \"x\" else None for b in buses.split(\",\")]"
   ]
  },
  {
   "cell_type": "code",
   "execution_count": 20,
   "metadata": {},
   "outputs": [
    {
     "name": "stdout",
     "output_type": "stream",
     "text": [
      "Part 1: 2165\n"
     ]
    }
   ],
   "source": [
    "import math\n",
    "tot = 0\n",
    "minV = math.inf\n",
    "for i in buses:\n",
    "    if i == None:\n",
    "        continue\n",
    "    else:\n",
    "        val = start//i\n",
    "        inc = abs(start - (i*val+ i))\n",
    "        if inc < minV:\n",
    "            tot = inc* i\n",
    "            minV = inc\n",
    "print(\"Part 1:\",tot)"
   ]
  },
  {
   "cell_type": "code",
   "execution_count": 21,
   "metadata": {},
   "outputs": [
    {
     "name": "stdout",
     "output_type": "stream",
     "text": [
      "Part 2: 534035653563227\n"
     ]
    }
   ],
   "source": [
    "M = math.prod(b for b in buses if b is not None)\n",
    "result = 0\n",
    "M\n",
    "\n",
    "for i, b in enumerate(buses):\n",
    "    if b is None:\n",
    "        continue\n",
    "\n",
    "    Mi = M // b\n",
    "    mi = pow(Mi, -1, b)\n",
    "    result += (-i) * Mi * mi\n",
    "\n",
    "print(\"Part 2:\", result % M)"
   ]
  }
 ],
 "metadata": {
  "kernelspec": {
   "display_name": "Python 3",
   "language": "python",
   "name": "python3"
  },
  "language_info": {
   "codemirror_mode": {
    "name": "ipython",
    "version": 3
   },
   "file_extension": ".py",
   "mimetype": "text/x-python",
   "name": "python",
   "nbconvert_exporter": "python",
   "pygments_lexer": "ipython3",
   "version": "3.8.6"
  }
 },
 "nbformat": 4,
 "nbformat_minor": 4
}
