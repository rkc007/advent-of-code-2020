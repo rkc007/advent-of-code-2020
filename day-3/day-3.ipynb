{
 "cells": [
  {
   "cell_type": "code",
   "execution_count": 7,
   "metadata": {},
   "outputs": [
    {
     "name": "stdout",
     "output_type": "stream",
     "text": [
      "Part 1: 169\n",
      "Part 2: 7560370818\n"
     ]
    }
   ],
   "source": [
    "from os import path\n",
    "\n",
    "PART1_SLOPE = (3, 1)\n",
    "SLOPES = [\n",
    "    (1, 1),\n",
    "    (3, 1),\n",
    "    (5, 1),\n",
    "    (7, 1),\n",
    "    (1, 2),\n",
    "]\n",
    "\n",
    "with open(\"day3.txt\") as f:\n",
    "    trees = [line.strip() for line in f]\n",
    "    width = len(trees[0])\n",
    "\n",
    "    part2 = 1\n",
    "    for dx, dy in SLOPES:\n",
    "        x, y = 0, 0\n",
    "        count = 0\n",
    "\n",
    "        while y < len(trees):\n",
    "            if trees[y][x] == \"#\":\n",
    "                count += 1\n",
    "            x = (x + dx) % width\n",
    "            y += dy\n",
    "\n",
    "        if (dx, dy) == PART1_SLOPE:\n",
    "            print(\"Part 1:\", count)\n",
    "\n",
    "        part2 *= count\n",
    "\n",
    "    print(\"Part 2:\", part2)"
   ]
  },
  {
   "cell_type": "code",
   "execution_count": null,
   "metadata": {},
   "outputs": [],
   "source": []
  }
 ],
 "metadata": {
  "kernelspec": {
   "display_name": "Python 3",
   "language": "python",
   "name": "python3"
  },
  "language_info": {
   "codemirror_mode": {
    "name": "ipython",
    "version": 3
   },
   "file_extension": ".py",
   "mimetype": "text/x-python",
   "name": "python",
   "nbconvert_exporter": "python",
   "pygments_lexer": "ipython3",
   "version": "3.6.8"
  }
 },
 "nbformat": 4,
 "nbformat_minor": 4
}
