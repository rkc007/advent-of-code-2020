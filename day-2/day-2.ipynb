{
 "cells": [
  {
   "cell_type": "code",
   "execution_count": 5,
   "metadata": {},
   "outputs": [],
   "source": [
    "from os import path\n",
    "from collections import Counter\n",
    "import re"
   ]
  },
  {
   "cell_type": "code",
   "execution_count": 7,
   "metadata": {},
   "outputs": [
    {
     "name": "stdout",
     "output_type": "stream",
     "text": [
      "Part 1: 460\n",
      "Part 2: 251\n"
     ]
    }
   ],
   "source": [
    "with open(\"day2.txt\") as f:\n",
    "    part1 = part2 = 0\n",
    "\n",
    "    for line in f:\n",
    "        low, high, c, word = re.findall(r\"(\\d+)-(\\d+) (\\w): (\\w+)\", line.strip())[0]\n",
    "        low, high = int(low), int(high)\n",
    "\n",
    "        if low <= Counter(word)[c] <= high:\n",
    "            part1 += 1\n",
    "\n",
    "        if (word[low - 1] == c) ^ (word[high - 1] == c):\n",
    "            part2 += 1\n",
    "\n",
    "    print(\"Part 1:\", part1)\n",
    "    print(\"Part 2:\", part2)"
   ]
  },
  {
   "cell_type": "code",
   "execution_count": null,
   "metadata": {},
   "outputs": [],
   "source": []
  }
 ],
 "metadata": {
  "kernelspec": {
   "display_name": "Python 3",
   "language": "python",
   "name": "python3"
  },
  "language_info": {
   "codemirror_mode": {
    "name": "ipython",
    "version": 3
   },
   "file_extension": ".py",
   "mimetype": "text/x-python",
   "name": "python",
   "nbconvert_exporter": "python",
   "pygments_lexer": "ipython3",
   "version": "3.6.8"
  }
 },
 "nbformat": 4,
 "nbformat_minor": 4
}
