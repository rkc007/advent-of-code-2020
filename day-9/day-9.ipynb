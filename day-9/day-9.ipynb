{
 "cells": [
  {
   "cell_type": "code",
   "execution_count": 1,
   "metadata": {},
   "outputs": [
    {
     "name": "stdout",
     "output_type": "stream",
     "text": [
      "Part 1: 1639024365\n",
      "Part 2: 219202240\n"
     ]
    }
   ],
   "source": [
    "from os import path\n",
    "import itertools\n",
    "\n",
    "\n",
    "with open( \"day9.txt\") as f:\n",
    "    nums = [int(line) for line in f]\n",
    "\n",
    "    for i, num in enumerate(nums[25:], 25):\n",
    "        for pair in itertools.combinations(nums[i-25:i], 2):\n",
    "            if sum(pair) == num:\n",
    "                break\n",
    "        else:\n",
    "            print(\"Part 1:\", num)\n",
    "            break\n",
    "\n",
    "    for n in itertools.count(2):\n",
    "        for i in range(len(nums) - n):\n",
    "            group = nums[i : i + n]\n",
    "            if sum(group) == num:\n",
    "                print(\"Part 2:\", min(group) + max(group))\n",
    "                break\n",
    "        else:\n",
    "            continue\n",
    "        break"
   ]
  },
  {
   "cell_type": "code",
   "execution_count": null,
   "metadata": {},
   "outputs": [],
   "source": []
  }
 ],
 "metadata": {
  "kernelspec": {
   "display_name": "Python 3",
   "language": "python",
   "name": "python3"
  },
  "language_info": {
   "codemirror_mode": {
    "name": "ipython",
    "version": 3
   },
   "file_extension": ".py",
   "mimetype": "text/x-python",
   "name": "python",
   "nbconvert_exporter": "python",
   "pygments_lexer": "ipython3",
   "version": "3.6.8"
  }
 },
 "nbformat": 4,
 "nbformat_minor": 4
}
