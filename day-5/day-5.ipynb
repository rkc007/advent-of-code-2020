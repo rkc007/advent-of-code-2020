{
 "cells": [
  {
   "cell_type": "code",
   "execution_count": 3,
   "metadata": {},
   "outputs": [
    {
     "name": "stdout",
     "output_type": "stream",
     "text": [
      "Part 1: 855\n",
      "Part 2: 552\n"
     ]
    }
   ],
   "source": [
    "with open( \"day5.txt\") as f:\n",
    "    ids = set()\n",
    "\n",
    "    for line in f:\n",
    "        row = int(line[:7].replace(\"F\", \"0\").replace(\"B\", \"1\"), 2)\n",
    "        col = int(line[7:].replace(\"L\", \"0\").replace(\"R\", \"1\"), 2)\n",
    "        ids.add(row * 8 + col)\n",
    "\n",
    "    print(\"Part 1:\", max(ids))\n",
    "\n",
    "    for i in range(1, 0b1_0000000_000):\n",
    "        if i not in ids and i - 1 in ids and i + 1 in ids:\n",
    "            print(\"Part 2:\", i)\n",
    "            break"
   ]
  },
  {
   "cell_type": "code",
   "execution_count": null,
   "metadata": {},
   "outputs": [],
   "source": []
  }
 ],
 "metadata": {
  "kernelspec": {
   "display_name": "Python 3",
   "language": "python",
   "name": "python3"
  },
  "language_info": {
   "codemirror_mode": {
    "name": "ipython",
    "version": 3
   },
   "file_extension": ".py",
   "mimetype": "text/x-python",
   "name": "python",
   "nbconvert_exporter": "python",
   "pygments_lexer": "ipython3",
   "version": "3.6.8"
  }
 },
 "nbformat": 4,
 "nbformat_minor": 4
}
