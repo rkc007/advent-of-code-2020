{
 "nbformat": 4,
 "nbformat_minor": 2,
 "metadata": {
  "language_info": {
   "name": "python",
   "codemirror_mode": {
    "name": "ipython",
    "version": 3
   },
   "version": "3.8.6-final"
  },
  "orig_nbformat": 2,
  "file_extension": ".py",
  "mimetype": "text/x-python",
  "name": "python",
  "npconvert_exporter": "python",
  "pygments_lexer": "ipython3",
  "version": 3,
  "kernelspec": {
   "name": "python38664bit4e2d339d1ffe4ba29e33a5d21ff0eae2",
   "display_name": "Python 3.8.6 64-bit"
  }
 },
 "cells": [
  {
   "cell_type": "code",
   "execution_count": 6,
   "metadata": {},
   "outputs": [],
   "source": [
    "\n",
    "from os import path\n",
    "import itertools as iter\n",
    "import re\n"
   ]
  },
  {
   "cell_type": "code",
   "execution_count": 7,
   "metadata": {},
   "outputs": [],
   "source": [
    "def powerset(xs):\n",
    "    return iter.chain.from_iterable(iter.combinations(xs, r) for r in range(len(xs) + 1))\n"
   ]
  },
  {
   "cell_type": "code",
   "execution_count": 8,
   "metadata": {},
   "outputs": [
    {
     "name": "stdout",
     "output_type": "stream",
     "text": "Part 1: 10452688630537\nPart 2: 2881082759597\n"
    }
   ],
   "source": [
    "with open( \"day14.txt\") as f:\n",
    "    mem1 = {}\n",
    "    mem2 = {}\n",
    "\n",
    "    for line in f.read().splitlines():\n",
    "        if line.startswith(\"mask\"):\n",
    "            mask = re.fullmatch(r\"mask = ([X10]{36})\", line).groups()[0]\n",
    "\n",
    "            or_mask1 = int(mask.replace(\"X\", \"0\"), 2)\n",
    "            and_mask1 = int(mask.replace(\"X\", \"1\"), 2)\n",
    "\n",
    "            or_mask2 = int(mask.replace(\"X\", \"0\"), 2)\n",
    "            and_mask2 = int(mask.replace(\"0\", \"1\").replace(\"X\", \"0\"), 2)\n",
    "            floating = [35 - i for i, c in enumerate(mask) if c == \"X\"]\n",
    "        else:\n",
    "            addr, val = map(int, re.fullmatch(r\"mem\\[(\\d+)] = (\\d+)\", line).groups())\n",
    "\n",
    "            mem1[addr] = (val | or_mask1) & and_mask1\n",
    "\n",
    "            addr &= and_mask2\n",
    "            addr |= or_mask2\n",
    "            for comb in powerset(floating):\n",
    "                new_addr = addr\n",
    "                for i in comb:\n",
    "                    new_addr |= 1 << i\n",
    "                mem2[new_addr] = val\n",
    "\n",
    "    print(\"Part 1:\", sum(mem1.values()))\n",
    "    print(\"Part 2:\", sum(mem2.values()))"
   ]
  },
  {
   "cell_type": "code",
   "execution_count": null,
   "metadata": {},
   "outputs": [],
   "source": []
  }
 ]
}